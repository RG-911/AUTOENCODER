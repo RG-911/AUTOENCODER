{
 "cells": [
  {
   "cell_type": "markdown",
   "id": "conceptual-shareware",
   "metadata": {},
   "source": [
    "# IMPORT LIBRARIES"
   ]
  },
  {
   "cell_type": "code",
   "execution_count": 45,
   "id": "precious-representative",
   "metadata": {},
   "outputs": [],
   "source": [
    "# Data manupulation:\n",
    "import pandas as pd\n",
    "import numpy as np\n",
    "\n",
    "# Data visualisation:\n",
    "import matplotlib.pyplot as plt\n",
    "\n",
    "# Dataset:\n",
    "from tensorflow.keras.datasets import mnist\n",
    "\n",
    "#ML Model:\n",
    "from tensorflow.keras.models import Sequential\n",
    "from tensorflow.keras.layers import Dense, Flatten, Reshape, GaussianNoise\n",
    "from tensorflow.keras.optimizers import SGD\n",
    "import tensorflow as tf"
   ]
  },
  {
   "cell_type": "code",
   "execution_count": 22,
   "id": "generic-education",
   "metadata": {},
   "outputs": [],
   "source": [
    "(X_train, y_train), (X_test, y_test) = mnist.load_data()"
   ]
  },
  {
   "cell_type": "code",
   "execution_count": 23,
   "id": "interstate-sudan",
   "metadata": {
    "scrolled": true
   },
   "outputs": [
    {
     "data": {
      "text/plain": [
       "<matplotlib.image.AxesImage at 0x117b782bee0>"
      ]
     },
     "execution_count": 23,
     "metadata": {},
     "output_type": "execute_result"
    },
    {
     "data": {
      "image/png": "[encoded data removed]",
      "text/plain": [
       "<Figure size 432x288 with 1 Axes>"
      ]
     },
     "metadata": {
      "needs_background": "light"
     },
     "output_type": "display_data"
    }
   ],
   "source": [
    "plt.imshow(X_train[0])"
   ]
  },
  {
   "cell_type": "code",
   "execution_count": 24,
   "id": "sustainable-clinton",
   "metadata": {},
   "outputs": [],
   "source": [
    "# SCALE THE DATA:\n",
    "X_train = X_train/255\n",
    "X_test = X_test/255"
   ]
  },
  {
   "cell_type": "markdown",
   "id": "accomplished-necklace",
   "metadata": {},
   "source": [
    "### ENCODER"
   ]
  },
  {
   "cell_type": "code",
   "execution_count": 29,
   "id": "dress-barcelona",
   "metadata": {},
   "outputs": [],
   "source": [
    "encoder = Sequential()\n",
    "encoder.add(Flatten(input_shape=[28,28]))\n",
    "encoder.add(Dense(400, activation='relu'))\n",
    "encoder.add(Dense(200, activation='relu'))\n",
    "encoder.add(Dense(100, activation='relu'))\n",
    "encoder.add(Dense(50, activation='relu'))\n",
    "encoder.add(Dense(25, activation='relu'))"
   ]
  },
  {
   "cell_type": "markdown",
   "id": "actual-engagement",
   "metadata": {},
   "source": [
    "### DECODER"
   ]
  },
  {
   "cell_type": "code",
   "execution_count": 30,
   "id": "contrary-donor",
   "metadata": {},
   "outputs": [],
   "source": [
    "decoder = Sequential()\n",
    "decoder.add(Dense(50, input_shape =[25], activation='relu'))\n",
    "decoder.add(Dense(100, activation='relu'))\n",
    "decoder.add(Dense(200, activation='relu'))\n",
    "decoder.add(Dense(400, activation='relu'))\n",
    "decoder.add(Dense(784, activation='sigmoid'))\n",
    "decoder.add(Reshape([28,28]))"
   ]
  },
  {
   "cell_type": "markdown",
   "id": "virgin-analysis",
   "metadata": {},
   "source": [
    "### AUTOENCODER"
   ]
  },
  {
   "cell_type": "code",
   "execution_count": 31,
   "id": "palestinian-payday",
   "metadata": {},
   "outputs": [],
   "source": [
    "autoencoder =  Sequential([encoder, decoder])"
   ]
  },
  {
   "cell_type": "code",
   "execution_count": 32,
   "id": "hearing-secretariat",
   "metadata": {},
   "outputs": [],
   "source": [
    "autoencoder.compile(loss='binary_crossentropy',\n",
    "                    optimizer=SGD(lr=1.5),\n",
    "                   metrics = ['accuracy'])"
   ]
  },
  {
   "cell_type": "code",
   "execution_count": 34,
   "id": "attended-lafayette",
   "metadata": {},
   "outputs": [
    {
     "name": "stdout",
     "output_type": "stream",
     "text": [
      "Epoch 1/5\n",
      "1875/1875 [==============================] - 10s 5ms/step - loss: 0.1962 - accuracy: 0.1486 - val_loss: 0.1743 - val_accuracy: 0.1729\n",
      "Epoch 2/5\n",
      "1875/1875 [==============================] - 10s 6ms/step - loss: 0.1638 - accuracy: 0.1904 - val_loss: 0.1531 - val_accuracy: 0.2052\n",
      "Epoch 3/5\n",
      "1875/1875 [==============================] - 10s 5ms/step - loss: 0.1486 - accuracy: 0.2137 - val_loss: 0.1422 - val_accuracy: 0.2207\n",
      "Epoch 4/5\n",
      "1875/1875 [==============================] - 10s 5ms/step - loss: 0.1423 - accuracy: 0.2245 - val_loss: 0.1380 - val_accuracy: 0.2307\n",
      "Epoch 5/5\n",
      "1875/1875 [==============================] - 10s 5ms/step - loss: 0.1381 - accuracy: 0.2305 - val_loss: 0.1351 - val_accuracy: 0.2261\n"
     ]
    },
    {
     "data": {
      "text/plain": [
       "<tensorflow.python.keras.callbacks.History at 0x117b844f670>"
      ]
     },
     "execution_count": 34,
     "metadata": {},
     "output_type": "execute_result"
    }
   ],
   "source": [
    "autoencoder.fit(X_train, X_train,epochs=5, \n",
    "                validation_data=(X_test, X_test))"
   ]
  },
  {
   "cell_type": "code",
   "execution_count": 35,
   "id": "jewish-protein",
   "metadata": {},
   "outputs": [],
   "source": [
    "passed_images = autoencoder.predict(X_test[:10])"
   ]
  },
  {
   "cell_type": "code",
   "execution_count": 39,
   "id": "immune-movement",
   "metadata": {},
   "outputs": [
    {
     "name": "stdout",
     "output_type": "stream",
     "text": [
      "Original Image\n"
     ]
    },
    {
     "data": {
      "image/png": "[encoded data removed]",
      "text/plain": [
       "<Figure size 432x288 with 1 Axes>"
      ]
     },
     "metadata": {
      "needs_background": "light"
     },
     "output_type": "display_data"
    },
    {
     "name": "stdout",
     "output_type": "stream",
     "text": [
      "Attemted Recontruction (after autoencoder)\n"
     ]
    },
    {
     "data": {
      "text/plain": [
       "<matplotlib.image.AxesImage at 0x117bf56e1f0>"
      ]
     },
     "execution_count": 39,
     "metadata": {},
     "output_type": "execute_result"
    },
    {
     "data": {
      "image/png": "[encoded data removed]",
      "text/plain": [
       "<Figure size 432x288 with 1 Axes>"
      ]
     },
     "metadata": {
      "needs_background": "light"
     },
     "output_type": "display_data"
    }
   ],
   "source": [
    "n = 9\n",
    "\n",
    "print('Original Image')\n",
    "plt.imshow(X_test[n])\n",
    "plt.show()\n",
    "\n",
    "print('Attemted Recontruction (after autoencoder)')\n",
    "plt.imshow(passed_images[n])"
   ]
  },
  {
   "cell_type": "markdown",
   "id": "attractive-paraguay",
   "metadata": {},
   "source": [
    "### ADD NOISE"
   ]
  },
  {
   "cell_type": "code",
   "execution_count": 41,
   "id": "nominated-brave",
   "metadata": {},
   "outputs": [],
   "source": [
    "sample  = GaussianNoise(0.2)"
   ]
  },
  {
   "cell_type": "code",
   "execution_count": 43,
   "id": "arctic-allah",
   "metadata": {},
   "outputs": [],
   "source": [
    "noisey = sample(X_test[:10], training =True)"
   ]
  },
  {
   "cell_type": "code",
   "execution_count": 44,
   "id": "generic-drove",
   "metadata": {},
   "outputs": [
    {
     "name": "stdout",
     "output_type": "stream",
     "text": [
      "Original Image\n"
     ]
    },
    {
     "data": {
      "image/png": "[encoded data removed]",
      "text/plain": [
       "<Figure size 432x288 with 1 Axes>"
      ]
     },
     "metadata": {
      "needs_background": "light"
     },
     "output_type": "display_data"
    },
    {
     "name": "stdout",
     "output_type": "stream",
     "text": [
      "Noisey Version\n"
     ]
    },
    {
     "data": {
      "text/plain": [
       "<matplotlib.image.AxesImage at 0x117bf5274c0>"
      ]
     },
     "execution_count": 44,
     "metadata": {},
     "output_type": "execute_result"
    },
    {
     "data": {
      "image/png": "[encoded data removed]",
      "text/plain": [
       "<Figure size 432x288 with 1 Axes>"
      ]
     },
     "metadata": {
      "needs_background": "light"
     },
     "output_type": "display_data"
    }
   ],
   "source": [
    "n = 0\n",
    "\n",
    "print('Original Image')\n",
    "plt.imshow(X_test[n])\n",
    "plt.show()\n",
    "\n",
    "print('Noisey Version')\n",
    "plt.imshow(noisey[n])"
   ]
  },
  {
   "cell_type": "markdown",
   "id": "automatic-queens",
   "metadata": {},
   "source": [
    "### NOISE REMOVAL AUTOENCODER"
   ]
  },
  {
   "cell_type": "code",
   "execution_count": 47,
   "id": "demonstrated-trouble",
   "metadata": {},
   "outputs": [],
   "source": [
    "tf.random.set_seed(101)\n",
    "np.random.seed(101)\n",
    "\n",
    "\n",
    "encoder = Sequential()\n",
    "encoder.add(Flatten(input_shape=[28,28]))\n",
    "\n",
    "encoder.add(GaussianNoise(0.2))\n",
    "\n",
    "encoder.add(Dense(400, activation='relu'))\n",
    "encoder.add(Dense(200, activation='relu'))\n",
    "encoder.add(Dense(100, activation='relu'))\n",
    "encoder.add(Dense(50, activation='relu'))\n",
    "encoder.add(Dense(25, activation='relu'))"
   ]
  },
  {
   "cell_type": "code",
   "execution_count": 48,
   "id": "altered-adolescent",
   "metadata": {},
   "outputs": [],
   "source": [
    "decoder = Sequential()\n",
    "decoder.add(Dense(50, input_shape =[25], activation='relu'))\n",
    "decoder.add(Dense(100, activation='relu'))\n",
    "decoder.add(Dense(200, activation='relu'))\n",
    "decoder.add(Dense(400, activation='relu'))\n",
    "decoder.add(Dense(784, activation='sigmoid'))\n",
    "decoder.add(Reshape([28,28]))"
   ]
  },
  {
   "cell_type": "code",
   "execution_count": 49,
   "id": "responsible-taiwan",
   "metadata": {},
   "outputs": [],
   "source": [
    "noise_remover = Sequential([encoder, decoder])"
   ]
  },
  {
   "cell_type": "code",
   "execution_count": 50,
   "id": "graphic-smoke",
   "metadata": {},
   "outputs": [],
   "source": [
    "noise_remover.compile(loss='binary_crossentropy',\n",
    "                    optimizer=SGD(lr=1.5),\n",
    "                   metrics = ['accuracy'])"
   ]
  },
  {
   "cell_type": "code",
   "execution_count": 51,
   "id": "therapeutic-cotton",
   "metadata": {},
   "outputs": [
    {
     "name": "stdout",
     "output_type": "stream",
     "text": [
      "Epoch 1/8\n",
      "1875/1875 [==============================] - 11s 6ms/step - loss: 0.2927 - accuracy: 0.0704 - val_loss: 0.2173 - val_accuracy: 0.1228\n",
      "Epoch 2/8\n",
      "1875/1875 [==============================] - 10s 6ms/step - loss: 0.2065 - accuracy: 0.1327 - val_loss: 0.1734 - val_accuracy: 0.1722\n",
      "Epoch 3/8\n",
      "1875/1875 [==============================] - 11s 6ms/step - loss: 0.1672 - accuracy: 0.1853 - val_loss: 0.1547 - val_accuracy: 0.2086\n",
      "Epoch 4/8\n",
      "1875/1875 [==============================] - 11s 6ms/step - loss: 0.1519 - accuracy: 0.2051 - val_loss: 0.1437 - val_accuracy: 0.2211\n",
      "Epoch 5/8\n",
      "1875/1875 [==============================] - 11s 6ms/step - loss: 0.1433 - accuracy: 0.2177 - val_loss: 0.1353 - val_accuracy: 0.2236\n",
      "Epoch 6/8\n",
      "1875/1875 [==============================] - 11s 6ms/step - loss: 0.1374 - accuracy: 0.2264 - val_loss: 0.1333 - val_accuracy: 0.2265\n",
      "Epoch 7/8\n",
      "1875/1875 [==============================] - 13s 7ms/step - loss: 0.1333 - accuracy: 0.2305 - val_loss: 0.1287 - val_accuracy: 0.2386\n",
      "Epoch 8/8\n",
      "1875/1875 [==============================] - 13s 7ms/step - loss: 0.1301 - accuracy: 0.2343 - val_loss: 0.1240 - val_accuracy: 0.2385\n"
     ]
    },
    {
     "data": {
      "text/plain": [
       "<tensorflow.python.keras.callbacks.History at 0x117bf301f70>"
      ]
     },
     "execution_count": 51,
     "metadata": {},
     "output_type": "execute_result"
    }
   ],
   "source": [
    "noise_remover.fit(X_train, X_train,epochs=8, \n",
    "                validation_data=(X_test, X_test))"
   ]
  },
  {
   "cell_type": "code",
   "execution_count": 52,
   "id": "affecting-gibson",
   "metadata": {},
   "outputs": [],
   "source": [
    "ten_noisey_images = sample(X_test[:10], training = True)"
   ]
  },
  {
   "cell_type": "code",
   "execution_count": 53,
   "id": "peaceful-obligation",
   "metadata": {},
   "outputs": [],
   "source": [
    "denoised = noise_remover(ten_noisey_images)"
   ]
  },
  {
   "cell_type": "code",
   "execution_count": 55,
   "id": "alone-champagne",
   "metadata": {},
   "outputs": [
    {
     "name": "stdout",
     "output_type": "stream",
     "text": [
      "Original Image\n"
     ]
    },
    {
     "data": {
      "image/png": "[encoded data removed]",
      "text/plain": [
       "<Figure size 432x288 with 1 Axes>"
      ]
     },
     "metadata": {
      "needs_background": "light"
     },
     "output_type": "display_data"
    },
    {
     "name": "stdout",
     "output_type": "stream",
     "text": [
      "Noisey Version\n"
     ]
    },
    {
     "data": {
      "image/png": "[encoded data removed]",
      "text/plain": [
       "<Figure size 432x288 with 1 Axes>"
      ]
     },
     "metadata": {
      "needs_background": "light"
     },
     "output_type": "display_data"
    },
    {
     "name": "stdout",
     "output_type": "stream",
     "text": [
      "Denoised Version\n"
     ]
    },
    {
     "data": {
      "image/png": "[encoded data removed]",
      "text/plain": [
       "<Figure size 432x288 with 1 Axes>"
      ]
     },
     "metadata": {
      "needs_background": "light"
     },
     "output_type": "display_data"
    }
   ],
   "source": [
    "n=9\n",
    "\n",
    "print('Original Image')\n",
    "plt.imshow(X_test[n])\n",
    "plt.show()\n",
    "\n",
    "print('Noisey Version')\n",
    "plt.imshow(noisey[n])\n",
    "plt.show()\n",
    "\n",
    "print('Denoised Version')\n",
    "plt.imshow(denoised[n])\n",
    "plt.show()"
   ]
  },
  {
   "cell_type": "code",
   "execution_count": null,
   "id": "bearing-oklahoma",
   "metadata": {},
   "outputs": [],
   "source": []
  }
 ],
 "metadata": {
  "kernelspec": {
   "display_name": "Python 3",
   "language": "python",
   "name": "python3"
  },
  "language_info": {
   "codemirror_mode": {
    "name": "ipython",
    "version": 3
   },
   "file_extension": ".py",
   "mimetype": "text/x-python",
   "name": "python",
   "nbconvert_exporter": "python",
   "pygments_lexer": "ipython3",
   "version": "3.8.6"
  }
 },
 "nbformat": 4,
 "nbformat_minor": 5
}
